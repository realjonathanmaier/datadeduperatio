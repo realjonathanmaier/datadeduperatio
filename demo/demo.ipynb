{
 "cells": [
  {
   "attachments": {},
   "cell_type": "markdown",
   "metadata": {},
   "source": [
    "$$\n",
    "Data\\:Deduplication\\:Ratio\\:=\\:\\frac{Total\\:Data\\:Before\\:Deduplication}{Total\\:Data\\:After\\:Deduplication}\n",
    "$$\n",
    "\n",
    "$$\n",
    "Data\\:Deduplication\\:Ratio\\:=\\:\\frac{100}{20}\\:=\\:\\frac{5}{1}\n",
    "$$\n",
    "\n",
    "$$\n",
    "\\begin{aligned}\n",
    "Data\\:Deduplication\\:Ratio\\:(\\%) &= (1 - \\frac{Total\\:Data\\:After\\:Deduplication}{Total\\:Data\\:Before\\:Deduplication}) \\times 100\n",
    "\\end{aligned}\n",
    "$$\n",
    "Data\n",
    "\\begin{equation}\n",
    "\\begin{array}{c}\n",
    "\\text{Centered text} \\\\\n",
    "x = 1 + 2\n",
    "\\end{array}\n",
    "\\end{equation}\n",
    "\n",
    "\\begin{equation}\n",
    "\n",
    "\n",
    "\\begin{aligned}\n",
    "\\begin{array}{c}\n",
    "Data \\\\\n",
    "Deduplication \\\\\n",
    "Ratio\\:(\\%)\n",
    "\\end{array}\n",
    "\\end{aligned} = (1 - \\frac{Total\\:After\\:Deduplication}{Total\\:Before\\:Deduplication}) \\times 100\n",
    "\\end{equation}\n"
   ]
  }
 ],
 "metadata": {
  "language_info": {
   "name": "python"
  },
  "orig_nbformat": 4
 },
 "nbformat": 4,
 "nbformat_minor": 2
}
