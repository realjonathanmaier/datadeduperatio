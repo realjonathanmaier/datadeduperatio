{
 "cells": [
  {
   "attachments": {},
   "cell_type": "markdown",
   "metadata": {},
   "source": [
    "\\begin{equation}\n",
    "Data\\:Deduplication\\:Ratio\\:=\\:\\frac{Total\\:Data\\:Before\\:Deduplication}{Total\\:Data\\:Deduplication}\n",
    "\\end{equation}\n",
    "\\begin{equation}\n",
    "Data\\:Deduplication\\:Ratio\\:=\\:\\frac{Total\\:Data\\:Before\\:Deduplication}{Total\\:Data\\:Deduplication}\n",
    "\\end{equation}"
   ]
  }
 ],
 "metadata": {
  "language_info": {
   "name": "python"
  },
  "orig_nbformat": 4
 },
 "nbformat": 4,
 "nbformat_minor": 2
}
