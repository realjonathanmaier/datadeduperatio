{
 "cells": [
  {
   "attachments": {},
   "cell_type": "markdown",
   "metadata": {},
   "source": [
    "$$\n",
    "Data\\:Deduplication\\:Ratio\\:=\\:\\frac{Total\\:Data\\:Before\\:Deduplication}{Total\\:Data\\:After\\:Deduplication}\n",
    "$$\n",
    "\n",
    "$$\n",
    "Data\\:Deduplication\\:Ratio\\:=\\:\\frac{100}{20}\\:=\\:\\frac{5}{1}\n",
    "$$\n",
    "\n",
    "\n",
    "\\begin{equation}\n",
    "\\begin{aligned}\n",
    "\\begin{array}{c}\n",
    "Data \\\\\n",
    "Deduplication \\\\\n",
    "Ratio\\:(\\%)\n",
    "\\end{array}\n",
    "\\end{aligned} = (1 - \\frac{Total\\:After\\:Deduplication}{Total\\:Before\\:Deduplication}) \\times 100\n",
    "\\end{equation}\n",
    "\n",
    "\\begin{equation}\n",
    "\\begin{aligned}\n",
    "\\begin{array}{c}\n",
    "Data \\\\\n",
    "Deduplication \\\\\n",
    "Ratio\\:(\\%)\n",
    "\\end{array}\n",
    "\\end{aligned} = (1 - \\frac{5\\:TB}{10\\:TB}) \\times 100 = 50%\n",
    "\\end{equation}\n"
   ]
  }
 ],
 "metadata": {
  "language_info": {
   "name": "python"
  },
  "orig_nbformat": 4
 },
 "nbformat": 4,
 "nbformat_minor": 2
}
